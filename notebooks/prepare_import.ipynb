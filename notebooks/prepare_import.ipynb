{
 "cells": [
  {
   "cell_type": "markdown",
   "metadata": {},
   "source": [
    "# Data preparation before import"
   ]
  },
  {
   "cell_type": "code",
   "execution_count": 6,
   "metadata": {},
   "outputs": [],
   "source": [
    "import os\n",
    "import warnings\n",
    "\n",
    "import pandas as pd\n",
    "\n",
    "warnings.filterwarnings(\"ignore\")"
   ]
  },
  {
   "cell_type": "code",
   "execution_count": 7,
   "metadata": {},
   "outputs": [],
   "source": [
    "CLEANED_DATA_PATH = \"../data/cleaned\"\n",
    "MONGO_DATA_PATH = \"../data/mongo\""
   ]
  },
  {
   "cell_type": "markdown",
   "metadata": {},
   "source": [
    "## Load data"
   ]
  },
  {
   "cell_type": "code",
   "execution_count": 8,
   "metadata": {},
   "outputs": [],
   "source": [
    "def load_df(name: str) -> pd.DataFrame:\n",
    "    return pd.read_csv(os.path.join(CLEANED_DATA_PATH, f\"{name}.csv\"))"
   ]
  },
  {
   "cell_type": "markdown",
   "metadata": {},
   "source": [
    "## Save data"
   ]
  },
  {
   "cell_type": "code",
   "execution_count": 9,
   "metadata": {},
   "outputs": [],
   "source": [
    "def save_df_json(name: str, dataset: pd.DataFrame):\n",
    "    if not os.path.exists(MONGO_DATA_PATH):\n",
    "        os.makedirs(MONGO_DATA_PATH)\n",
    "\n",
    "    dataset.to_json(\n",
    "        os.path.join(MONGO_DATA_PATH, f\"{name}.json\"),\n",
    "        index=False,\n",
    "        orient=\"records\",\n",
    "        lines=True,\n",
    "    )"
   ]
  },
  {
   "cell_type": "markdown",
   "metadata": {},
   "source": [
    "## Preparation"
   ]
  },
  {
   "cell_type": "markdown",
   "metadata": {},
   "source": [
    "### MongoDB"
   ]
  },
  {
   "cell_type": "code",
   "execution_count": null,
   "metadata": {},
   "outputs": [],
   "source": [
    "def generate_mongo():\n",
    "    campaigns_df = load_df(\"campaigns\")\n",
    "    client_purchase_df = load_df(\"client_first_purchase_date\")\n",
    "    events_df = load_df(\"events\")\n",
    "    friends_df = load_df(\"friends\")\n",
    "    messages_df = load_df(\"messages\")\n",
    "\n",
    "    # Campaign\n",
    "    campaigns_df[\"campaign_id\"] = campaigns_df[\"id\"].astype(str)\n",
    "    campaigns_df.drop(columns=[\"id\"], inplace=True)\n",
    "    save_df_json(\"campaigns\", campaigns_df)\n",
    "\n",
    "    # Clients\n",
    "    clients_to_str_columns = [\"client_id\", \"user_id\"]\n",
    "    client_purchase_df[clients_to_str_columns] = client_purchase_df[\n",
    "        clients_to_str_columns\n",
    "    ].astype(str)\n",
    "    save_df_json(\"client_first_purchase_date\", client_purchase_df)\n",
    "\n",
    "    # Events\n",
    "    events_to_str_columns = [\"product_id\", \"category_id\", \"user_id\"]\n",
    "    events_df[events_to_str_columns] = events_df[events_to_str_columns].astype(str)\n",
    "    save_df_json(\"events\", events_df)\n",
    "\n",
    "    # Friends\n",
    "    friends_to_str_columns = [\"friend1\", \"friend2\"]\n",
    "    friends_df[friends_to_str_columns] = friends_df[friends_to_str_columns].astype(str)\n",
    "    save_df_json(\"friends\", friends_df)\n",
    "\n",
    "    # Messages\n",
    "    messages_to_str_columns = [\"client_id\", \"campaign_id\", \"user_id\"]\n",
    "    messages_df[messages_to_str_columns] = messages_df[messages_to_str_columns].astype(\n",
    "        str\n",
    "    )\n",
    "    save_df_json(\"messages\", messages_df)\n",
    "\n",
    "\n",
    "generate_mongo()"
   ]
  }
 ],
 "metadata": {
  "kernelspec": {
   "display_name": ".venv",
   "language": "python",
   "name": "python3"
  },
  "language_info": {
   "codemirror_mode": {
    "name": "ipython",
    "version": 3
   },
   "file_extension": ".py",
   "mimetype": "text/x-python",
   "name": "python",
   "nbconvert_exporter": "python",
   "pygments_lexer": "ipython3",
   "version": "3.12.4"
  }
 },
 "nbformat": 4,
 "nbformat_minor": 2
}
