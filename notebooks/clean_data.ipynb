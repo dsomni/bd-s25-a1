{
 "cells": [
  {
   "cell_type": "markdown",
   "metadata": {},
   "source": [
    "# Cleaning Data notebook"
   ]
  },
  {
   "cell_type": "code",
   "execution_count": 1,
   "metadata": {},
   "outputs": [],
   "source": [
    "import os\n",
    "import warnings\n",
    "\n",
    "import numpy as np\n",
    "import pandas as pd\n",
    "\n",
    "warnings.filterwarnings(\"ignore\")"
   ]
  },
  {
   "cell_type": "code",
   "execution_count": 2,
   "metadata": {},
   "outputs": [],
   "source": [
    "INITIAL_DATA_PATH = \"../data/initial\"\n",
    "CLEANED_DATA_PATH = \"../data/cleaned\""
   ]
  },
  {
   "cell_type": "markdown",
   "metadata": {},
   "source": [
    "## Load data"
   ]
  },
  {
   "cell_type": "code",
   "execution_count": 3,
   "metadata": {},
   "outputs": [],
   "source": [
    "def load_df(name: str) -> pd.DataFrame:\n",
    "    return pd.read_csv(os.path.join(INITIAL_DATA_PATH, f\"{name}.csv\"))"
   ]
  },
  {
   "cell_type": "code",
   "execution_count": 4,
   "metadata": {},
   "outputs": [],
   "source": [
    "campaigns_df = load_df(\"campaigns\")\n",
    "client_purchase_df = load_df(\"client_first_purchase_date\")\n",
    "events_df = load_df(\"events\")\n",
    "friends_df = load_df(\"friends\")\n",
    "messages_df = load_df(\"messages\")"
   ]
  },
  {
   "cell_type": "markdown",
   "metadata": {},
   "source": [
    "## Save data"
   ]
  },
  {
   "cell_type": "code",
   "execution_count": 5,
   "metadata": {},
   "outputs": [],
   "source": [
    "def save_df(name: str, dataset: pd.DataFrame):\n",
    "    if not os.path.exists(CLEANED_DATA_PATH):\n",
    "        os.makedirs(CLEANED_DATA_PATH)\n",
    "\n",
    "    dataset.to_csv(os.path.join(CLEANED_DATA_PATH, f\"{name}.csv\"), index=False)"
   ]
  },
  {
   "cell_type": "markdown",
   "metadata": {},
   "source": [
    "## Campaigns ✅"
   ]
  },
  {
   "cell_type": "markdown",
   "metadata": {},
   "source": [
    "### Insights"
   ]
  },
  {
   "cell_type": "code",
   "execution_count": 6,
   "metadata": {},
   "outputs": [
    {
     "data": {
      "text/html": [
       "<div>\n",
       "<style scoped>\n",
       "    .dataframe tbody tr th:only-of-type {\n",
       "        vertical-align: middle;\n",
       "    }\n",
       "\n",
       "    .dataframe tbody tr th {\n",
       "        vertical-align: top;\n",
       "    }\n",
       "\n",
       "    .dataframe thead th {\n",
       "        text-align: right;\n",
       "    }\n",
       "</style>\n",
       "<table border=\"1\" class=\"dataframe\">\n",
       "  <thead>\n",
       "    <tr style=\"text-align: right;\">\n",
       "      <th></th>\n",
       "      <th>id</th>\n",
       "      <th>campaign_type</th>\n",
       "      <th>channel</th>\n",
       "      <th>topic</th>\n",
       "      <th>started_at</th>\n",
       "      <th>finished_at</th>\n",
       "      <th>total_count</th>\n",
       "      <th>ab_test</th>\n",
       "      <th>warmup_mode</th>\n",
       "      <th>hour_limit</th>\n",
       "      <th>subject_length</th>\n",
       "      <th>subject_with_personalization</th>\n",
       "      <th>subject_with_deadline</th>\n",
       "      <th>subject_with_emoji</th>\n",
       "      <th>subject_with_bonuses</th>\n",
       "      <th>subject_with_discount</th>\n",
       "      <th>subject_with_saleout</th>\n",
       "      <th>is_test</th>\n",
       "      <th>position</th>\n",
       "    </tr>\n",
       "  </thead>\n",
       "  <tbody>\n",
       "    <tr>\n",
       "      <th>0</th>\n",
       "      <td>63</td>\n",
       "      <td>bulk</td>\n",
       "      <td>mobile_push</td>\n",
       "      <td>sale out</td>\n",
       "      <td>2021-04-30 07:22:36.615023</td>\n",
       "      <td>2021-04-30 07:23:41</td>\n",
       "      <td>48211.0</td>\n",
       "      <td>NaN</td>\n",
       "      <td>False</td>\n",
       "      <td>NaN</td>\n",
       "      <td>146.0</td>\n",
       "      <td>False</td>\n",
       "      <td>False</td>\n",
       "      <td>True</td>\n",
       "      <td>False</td>\n",
       "      <td>False</td>\n",
       "      <td>False</td>\n",
       "      <td>NaN</td>\n",
       "      <td>NaN</td>\n",
       "    </tr>\n",
       "    <tr>\n",
       "      <th>1</th>\n",
       "      <td>64</td>\n",
       "      <td>bulk</td>\n",
       "      <td>mobile_push</td>\n",
       "      <td>sale out</td>\n",
       "      <td>2021-04-30 09:02:50.817227</td>\n",
       "      <td>2021-04-30 09:04:08</td>\n",
       "      <td>1037337.0</td>\n",
       "      <td>NaN</td>\n",
       "      <td>False</td>\n",
       "      <td>NaN</td>\n",
       "      <td>97.0</td>\n",
       "      <td>False</td>\n",
       "      <td>False</td>\n",
       "      <td>True</td>\n",
       "      <td>False</td>\n",
       "      <td>False</td>\n",
       "      <td>False</td>\n",
       "      <td>NaN</td>\n",
       "      <td>NaN</td>\n",
       "    </tr>\n",
       "    <tr>\n",
       "      <th>2</th>\n",
       "      <td>78</td>\n",
       "      <td>bulk</td>\n",
       "      <td>mobile_push</td>\n",
       "      <td>sale out</td>\n",
       "      <td>2021-05-06 07:14:10.533318</td>\n",
       "      <td>2021-05-06 07:15:17</td>\n",
       "      <td>70080.0</td>\n",
       "      <td>NaN</td>\n",
       "      <td>False</td>\n",
       "      <td>NaN</td>\n",
       "      <td>146.0</td>\n",
       "      <td>False</td>\n",
       "      <td>False</td>\n",
       "      <td>True</td>\n",
       "      <td>False</td>\n",
       "      <td>False</td>\n",
       "      <td>False</td>\n",
       "      <td>NaN</td>\n",
       "      <td>NaN</td>\n",
       "    </tr>\n",
       "    <tr>\n",
       "      <th>3</th>\n",
       "      <td>79</td>\n",
       "      <td>bulk</td>\n",
       "      <td>mobile_push</td>\n",
       "      <td>sale out</td>\n",
       "      <td>2021-05-06 09:03:56.486750</td>\n",
       "      <td>2021-05-06 09:42:15</td>\n",
       "      <td>921838.0</td>\n",
       "      <td>NaN</td>\n",
       "      <td>False</td>\n",
       "      <td>NaN</td>\n",
       "      <td>97.0</td>\n",
       "      <td>False</td>\n",
       "      <td>False</td>\n",
       "      <td>True</td>\n",
       "      <td>False</td>\n",
       "      <td>False</td>\n",
       "      <td>False</td>\n",
       "      <td>NaN</td>\n",
       "      <td>NaN</td>\n",
       "    </tr>\n",
       "    <tr>\n",
       "      <th>4</th>\n",
       "      <td>89</td>\n",
       "      <td>bulk</td>\n",
       "      <td>mobile_push</td>\n",
       "      <td>NaN</td>\n",
       "      <td>2021-05-07 11:54:06.168664</td>\n",
       "      <td>2021-05-07 11:54:38</td>\n",
       "      <td>45503.0</td>\n",
       "      <td>NaN</td>\n",
       "      <td>False</td>\n",
       "      <td>NaN</td>\n",
       "      <td>109.0</td>\n",
       "      <td>False</td>\n",
       "      <td>True</td>\n",
       "      <td>True</td>\n",
       "      <td>False</td>\n",
       "      <td>False</td>\n",
       "      <td>False</td>\n",
       "      <td>NaN</td>\n",
       "      <td>NaN</td>\n",
       "    </tr>\n",
       "  </tbody>\n",
       "</table>\n",
       "</div>"
      ],
      "text/plain": [
       "   id campaign_type      channel     topic                  started_at  \\\n",
       "0  63          bulk  mobile_push  sale out  2021-04-30 07:22:36.615023   \n",
       "1  64          bulk  mobile_push  sale out  2021-04-30 09:02:50.817227   \n",
       "2  78          bulk  mobile_push  sale out  2021-05-06 07:14:10.533318   \n",
       "3  79          bulk  mobile_push  sale out  2021-05-06 09:03:56.486750   \n",
       "4  89          bulk  mobile_push       NaN  2021-05-07 11:54:06.168664   \n",
       "\n",
       "           finished_at  total_count ab_test warmup_mode  hour_limit  \\\n",
       "0  2021-04-30 07:23:41      48211.0     NaN       False         NaN   \n",
       "1  2021-04-30 09:04:08    1037337.0     NaN       False         NaN   \n",
       "2  2021-05-06 07:15:17      70080.0     NaN       False         NaN   \n",
       "3  2021-05-06 09:42:15     921838.0     NaN       False         NaN   \n",
       "4  2021-05-07 11:54:38      45503.0     NaN       False         NaN   \n",
       "\n",
       "   subject_length subject_with_personalization subject_with_deadline  \\\n",
       "0           146.0                        False                 False   \n",
       "1            97.0                        False                 False   \n",
       "2           146.0                        False                 False   \n",
       "3            97.0                        False                 False   \n",
       "4           109.0                        False                  True   \n",
       "\n",
       "  subject_with_emoji subject_with_bonuses subject_with_discount  \\\n",
       "0               True                False                 False   \n",
       "1               True                False                 False   \n",
       "2               True                False                 False   \n",
       "3               True                False                 False   \n",
       "4               True                False                 False   \n",
       "\n",
       "  subject_with_saleout is_test  position  \n",
       "0                False     NaN       NaN  \n",
       "1                False     NaN       NaN  \n",
       "2                False     NaN       NaN  \n",
       "3                False     NaN       NaN  \n",
       "4                False     NaN       NaN  "
      ]
     },
     "execution_count": 6,
     "metadata": {},
     "output_type": "execute_result"
    }
   ],
   "source": [
    "campaigns_df.head(5)"
   ]
  },
  {
   "cell_type": "code",
   "execution_count": 7,
   "metadata": {},
   "outputs": [
    {
     "name": "stdout",
     "output_type": "stream",
     "text": [
      "<class 'pandas.core.frame.DataFrame'>\n",
      "RangeIndex: 1907 entries, 0 to 1906\n",
      "Data columns (total 19 columns):\n",
      " #   Column                        Non-Null Count  Dtype  \n",
      "---  ------                        --------------  -----  \n",
      " 0   id                            1907 non-null   int64  \n",
      " 1   campaign_type                 1907 non-null   object \n",
      " 2   channel                       1907 non-null   object \n",
      " 3   topic                         1877 non-null   object \n",
      " 4   started_at                    1824 non-null   object \n",
      " 5   finished_at                   1808 non-null   object \n",
      " 6   total_count                   1824 non-null   float64\n",
      " 7   ab_test                       12 non-null     object \n",
      " 8   warmup_mode                   1830 non-null   object \n",
      " 9   hour_limit                    31 non-null     float64\n",
      " 10  subject_length                1880 non-null   float64\n",
      " 11  subject_with_personalization  1880 non-null   object \n",
      " 12  subject_with_deadline         1880 non-null   object \n",
      " 13  subject_with_emoji            1880 non-null   object \n",
      " 14  subject_with_bonuses          1880 non-null   object \n",
      " 15  subject_with_discount         1880 non-null   object \n",
      " 16  subject_with_saleout          1880 non-null   object \n",
      " 17  is_test                       27 non-null     object \n",
      " 18  position                      24 non-null     float64\n",
      "dtypes: float64(4), int64(1), object(14)\n",
      "memory usage: 283.2+ KB\n"
     ]
    }
   ],
   "source": [
    "campaigns_df.info()"
   ]
  },
  {
   "cell_type": "code",
   "execution_count": 8,
   "metadata": {},
   "outputs": [
    {
     "data": {
      "text/plain": [
       "id                                 0\n",
       "campaign_type                      0\n",
       "channel                            0\n",
       "topic                             30\n",
       "started_at                        83\n",
       "finished_at                       99\n",
       "total_count                       83\n",
       "ab_test                         1895\n",
       "warmup_mode                       77\n",
       "hour_limit                      1876\n",
       "subject_length                    27\n",
       "subject_with_personalization      27\n",
       "subject_with_deadline             27\n",
       "subject_with_emoji                27\n",
       "subject_with_bonuses              27\n",
       "subject_with_discount             27\n",
       "subject_with_saleout              27\n",
       "is_test                         1880\n",
       "position                        1883\n",
       "dtype: int64"
      ]
     },
     "execution_count": 8,
     "metadata": {},
     "output_type": "execute_result"
    }
   ],
   "source": [
    "campaigns_df.isna().sum()"
   ]
  },
  {
   "cell_type": "markdown",
   "metadata": {},
   "source": [
    "### Cleaning"
   ]
  },
  {
   "cell_type": "code",
   "execution_count": 9,
   "metadata": {},
   "outputs": [],
   "source": [
    "# Convert int columns to int type\n",
    "campaigns_int_columns = [\n",
    "    \"total_count\",\n",
    "    \"position\",\n",
    "    \"hour_limit\",\n",
    "    \"subject_length\",\n",
    "]\n",
    "\n",
    "campaigns_df[campaigns_int_columns] = campaigns_df[campaigns_int_columns].astype(\n",
    "    pd.Int64Dtype()\n",
    ")"
   ]
  },
  {
   "cell_type": "code",
   "execution_count": 10,
   "metadata": {},
   "outputs": [],
   "source": [
    "# Convert boolean columns to boolean type\n",
    "campaigns_boolean_columns = [\n",
    "    \"ab_test\",\n",
    "    \"warmup_mode\",\n",
    "    \"subject_with_personalization\",\n",
    "    \"subject_with_deadline\",\n",
    "    \"subject_with_emoji\",\n",
    "    \"subject_with_bonuses\",\n",
    "    \"subject_with_discount\",\n",
    "    \"subject_with_saleout\",\n",
    "    \"is_test\",\n",
    "]\n",
    "\n",
    "campaigns_df[campaigns_boolean_columns] = (\n",
    "    campaigns_df[campaigns_boolean_columns].astype(bool).notna()\n",
    ")  # Treat NaN as False"
   ]
  },
  {
   "cell_type": "code",
   "execution_count": 11,
   "metadata": {},
   "outputs": [],
   "source": [
    "save_df(\"campaigns\", campaigns_df)"
   ]
  },
  {
   "cell_type": "markdown",
   "metadata": {},
   "source": [
    "## Client 1st Purchase Date ✅"
   ]
  },
  {
   "cell_type": "markdown",
   "metadata": {},
   "source": [
    "### Insights"
   ]
  },
  {
   "cell_type": "code",
   "execution_count": 12,
   "metadata": {},
   "outputs": [
    {
     "data": {
      "application/vnd.microsoft.datawrangler.viewer.v0+json": {
       "columns": [
        {
         "name": "index",
         "rawType": "int64",
         "type": "integer"
        },
        {
         "name": "client_id",
         "rawType": "int64",
         "type": "integer"
        },
        {
         "name": "first_purchase_date",
         "rawType": "object",
         "type": "string"
        },
        {
         "name": "user_id",
         "rawType": "int64",
         "type": "integer"
        },
        {
         "name": "user_device_id",
         "rawType": "int64",
         "type": "integer"
        }
       ],
       "conversionMethod": "pd.DataFrame",
       "ref": "c55a77cf-7032-45f4-bd2f-e4ad26e1d422",
       "rows": [
        [
         "0",
         "1515915625490504587",
         "2022-01-04",
         "549050458",
         "7"
        ],
        [
         "1",
         "1515915625490849433",
         "2022-06-03",
         "549084943",
         "3"
        ],
        [
         "2",
         "1515915625575901205",
         "2022-03-10",
         "557590120",
         "5"
        ],
        [
         "3",
         "1515915625490142421",
         "2022-09-28",
         "549014242",
         "1"
        ],
        [
         "4",
         "1515915625636825676",
         "2022-01-13",
         "563682567",
         "6"
        ]
       ],
       "shape": {
        "columns": 4,
        "rows": 5
       }
      },
      "text/html": [
       "<div>\n",
       "<style scoped>\n",
       "    .dataframe tbody tr th:only-of-type {\n",
       "        vertical-align: middle;\n",
       "    }\n",
       "\n",
       "    .dataframe tbody tr th {\n",
       "        vertical-align: top;\n",
       "    }\n",
       "\n",
       "    .dataframe thead th {\n",
       "        text-align: right;\n",
       "    }\n",
       "</style>\n",
       "<table border=\"1\" class=\"dataframe\">\n",
       "  <thead>\n",
       "    <tr style=\"text-align: right;\">\n",
       "      <th></th>\n",
       "      <th>client_id</th>\n",
       "      <th>first_purchase_date</th>\n",
       "      <th>user_id</th>\n",
       "      <th>user_device_id</th>\n",
       "    </tr>\n",
       "  </thead>\n",
       "  <tbody>\n",
       "    <tr>\n",
       "      <th>0</th>\n",
       "      <td>1515915625490504587</td>\n",
       "      <td>2022-01-04</td>\n",
       "      <td>549050458</td>\n",
       "      <td>7</td>\n",
       "    </tr>\n",
       "    <tr>\n",
       "      <th>1</th>\n",
       "      <td>1515915625490849433</td>\n",
       "      <td>2022-06-03</td>\n",
       "      <td>549084943</td>\n",
       "      <td>3</td>\n",
       "    </tr>\n",
       "    <tr>\n",
       "      <th>2</th>\n",
       "      <td>1515915625575901205</td>\n",
       "      <td>2022-03-10</td>\n",
       "      <td>557590120</td>\n",
       "      <td>5</td>\n",
       "    </tr>\n",
       "    <tr>\n",
       "      <th>3</th>\n",
       "      <td>1515915625490142421</td>\n",
       "      <td>2022-09-28</td>\n",
       "      <td>549014242</td>\n",
       "      <td>1</td>\n",
       "    </tr>\n",
       "    <tr>\n",
       "      <th>4</th>\n",
       "      <td>1515915625636825676</td>\n",
       "      <td>2022-01-13</td>\n",
       "      <td>563682567</td>\n",
       "      <td>6</td>\n",
       "    </tr>\n",
       "  </tbody>\n",
       "</table>\n",
       "</div>"
      ],
      "text/plain": [
       "             client_id first_purchase_date    user_id  user_device_id\n",
       "0  1515915625490504587          2022-01-04  549050458               7\n",
       "1  1515915625490849433          2022-06-03  549084943               3\n",
       "2  1515915625575901205          2022-03-10  557590120               5\n",
       "3  1515915625490142421          2022-09-28  549014242               1\n",
       "4  1515915625636825676          2022-01-13  563682567               6"
      ]
     },
     "execution_count": 12,
     "metadata": {},
     "output_type": "execute_result"
    }
   ],
   "source": [
    "client_purchase_df.head(5)"
   ]
  },
  {
   "cell_type": "code",
   "execution_count": 13,
   "metadata": {},
   "outputs": [
    {
     "name": "stdout",
     "output_type": "stream",
     "text": [
      "<class 'pandas.core.frame.DataFrame'>\n",
      "RangeIndex: 175164 entries, 0 to 175163\n",
      "Data columns (total 4 columns):\n",
      " #   Column               Non-Null Count   Dtype \n",
      "---  ------               --------------   ----- \n",
      " 0   client_id            175164 non-null  int64 \n",
      " 1   first_purchase_date  175164 non-null  object\n",
      " 2   user_id              175164 non-null  int64 \n",
      " 3   user_device_id       175164 non-null  int64 \n",
      "dtypes: int64(3), object(1)\n",
      "memory usage: 5.3+ MB\n"
     ]
    }
   ],
   "source": [
    "client_purchase_df.info()"
   ]
  },
  {
   "cell_type": "code",
   "execution_count": 14,
   "metadata": {},
   "outputs": [
    {
     "data": {
      "text/plain": [
       "client_id              0\n",
       "first_purchase_date    0\n",
       "user_id                0\n",
       "user_device_id         0\n",
       "dtype: int64"
      ]
     },
     "execution_count": 14,
     "metadata": {},
     "output_type": "execute_result"
    }
   ],
   "source": [
    "client_purchase_df.isna().sum()"
   ]
  },
  {
   "cell_type": "markdown",
   "metadata": {},
   "source": [
    "No cleaning needed!"
   ]
  },
  {
   "cell_type": "code",
   "execution_count": 15,
   "metadata": {},
   "outputs": [],
   "source": [
    "save_df(\"client_first_purchase_date\", client_purchase_df)"
   ]
  },
  {
   "cell_type": "markdown",
   "metadata": {},
   "source": [
    "## Events ✅"
   ]
  },
  {
   "cell_type": "markdown",
   "metadata": {},
   "source": [
    "### Insights"
   ]
  },
  {
   "cell_type": "code",
   "execution_count": 16,
   "metadata": {},
   "outputs": [
    {
     "data": {
      "application/vnd.microsoft.datawrangler.viewer.v0+json": {
       "columns": [
        {
         "name": "index",
         "rawType": "int64",
         "type": "integer"
        },
        {
         "name": "event_time",
         "rawType": "object",
         "type": "string"
        },
        {
         "name": "event_type",
         "rawType": "object",
         "type": "string"
        },
        {
         "name": "product_id",
         "rawType": "int64",
         "type": "integer"
        },
        {
         "name": "category_id",
         "rawType": "int64",
         "type": "integer"
        },
        {
         "name": "category_code",
         "rawType": "object",
         "type": "unknown"
        },
        {
         "name": "brand",
         "rawType": "object",
         "type": "string"
        },
        {
         "name": "price",
         "rawType": "float64",
         "type": "float"
        },
        {
         "name": "user_id",
         "rawType": "int64",
         "type": "integer"
        },
        {
         "name": "user_session",
         "rawType": "object",
         "type": "string"
        }
       ],
       "conversionMethod": "pd.DataFrame",
       "ref": "4a7b8f16-cc70-4568-828c-eab28d708227",
       "rows": [
        [
         "0",
         "2019-10-01 02:18:49 UTC",
         "view",
         "1003991",
         "2053013555631882655",
         "electronics.smartphone",
         "lg",
         "216.2",
         "550346297",
         "8d8694d3-271a-4d03-82ee-28d5fbcbd53c"
        ],
        [
         "1",
         "2019-10-01 02:19:53 UTC",
         "view",
         "1003991",
         "2053013555631882655",
         "electronics.smartphone",
         "lg",
         "216.2",
         "550346297",
         "8d8694d3-271a-4d03-82ee-28d5fbcbd53c"
        ],
        [
         "2",
         "2019-10-01 02:21:22 UTC",
         "view",
         "1003441",
         "2053013555631882655",
         "electronics.smartphone",
         "nokia",
         "407.11",
         "550346297",
         "8d8694d3-271a-4d03-82ee-28d5fbcbd53c"
        ],
        [
         "3",
         "2019-10-01 02:21:55 UTC",
         "view",
         "1003774",
         "2053013555631882655",
         "electronics.smartphone",
         "nokia",
         "370.2",
         "550346297",
         "8d8694d3-271a-4d03-82ee-28d5fbcbd53c"
        ],
        [
         "4",
         "2019-10-01 02:22:51 UTC",
         "view",
         "1003774",
         "2053013555631882655",
         "electronics.smartphone",
         "nokia",
         "370.2",
         "550346297",
         "8d8694d3-271a-4d03-82ee-28d5fbcbd53c"
        ],
        [
         "5",
         "2019-10-01 02:23:51 UTC",
         "view",
         "8800442",
         "2053013555573162395",
         "electronics.telephone",
         "nokia",
         "64.09",
         "550346297",
         "8d8694d3-271a-4d03-82ee-28d5fbcbd53c"
        ],
        [
         "6",
         "2019-10-01 02:24:36 UTC",
         "view",
         "8800442",
         "2053013555573162395",
         "electronics.telephone",
         "nokia",
         "64.09",
         "550346297",
         "8d8694d3-271a-4d03-82ee-28d5fbcbd53c"
        ],
        [
         "7",
         "2019-10-01 02:28:15 UTC",
         "view",
         "1004833",
         "2053013555631882655",
         "electronics.smartphone",
         "samsung",
         "174.76",
         "554750237",
         "c2da0654-bd6d-4aef-8c11-a086daaeb4ac"
        ],
        [
         "8",
         "2019-10-01 02:33:01 UTC",
         "view",
         "1005069",
         "2053013555631882655",
         "electronics.smartphone",
         "vivo",
         "321.73",
         "555464046",
         "2f60777e-a397-4f23-b7a7-f9fea8e02f64"
        ],
        [
         "9",
         "2019-10-01 02:33:12 UTC",
         "view",
         "32701165",
         "2055156924466332447",
         null,
         "zemex",
         "88.9",
         "549085912",
         "e6d0bd67-8631-4bfa-994d-356971cffda9"
        ]
       ],
       "shape": {
        "columns": 9,
        "rows": 10
       }
      },
      "text/html": [
       "<div>\n",
       "<style scoped>\n",
       "    .dataframe tbody tr th:only-of-type {\n",
       "        vertical-align: middle;\n",
       "    }\n",
       "\n",
       "    .dataframe tbody tr th {\n",
       "        vertical-align: top;\n",
       "    }\n",
       "\n",
       "    .dataframe thead th {\n",
       "        text-align: right;\n",
       "    }\n",
       "</style>\n",
       "<table border=\"1\" class=\"dataframe\">\n",
       "  <thead>\n",
       "    <tr style=\"text-align: right;\">\n",
       "      <th></th>\n",
       "      <th>event_time</th>\n",
       "      <th>event_type</th>\n",
       "      <th>product_id</th>\n",
       "      <th>category_id</th>\n",
       "      <th>category_code</th>\n",
       "      <th>brand</th>\n",
       "      <th>price</th>\n",
       "      <th>user_id</th>\n",
       "      <th>user_session</th>\n",
       "    </tr>\n",
       "  </thead>\n",
       "  <tbody>\n",
       "    <tr>\n",
       "      <th>0</th>\n",
       "      <td>2019-10-01 02:18:49 UTC</td>\n",
       "      <td>view</td>\n",
       "      <td>1003991</td>\n",
       "      <td>2053013555631882655</td>\n",
       "      <td>electronics.smartphone</td>\n",
       "      <td>lg</td>\n",
       "      <td>216.20</td>\n",
       "      <td>550346297</td>\n",
       "      <td>8d8694d3-271a-4d03-82ee-28d5fbcbd53c</td>\n",
       "    </tr>\n",
       "    <tr>\n",
       "      <th>1</th>\n",
       "      <td>2019-10-01 02:19:53 UTC</td>\n",
       "      <td>view</td>\n",
       "      <td>1003991</td>\n",
       "      <td>2053013555631882655</td>\n",
       "      <td>electronics.smartphone</td>\n",
       "      <td>lg</td>\n",
       "      <td>216.20</td>\n",
       "      <td>550346297</td>\n",
       "      <td>8d8694d3-271a-4d03-82ee-28d5fbcbd53c</td>\n",
       "    </tr>\n",
       "    <tr>\n",
       "      <th>2</th>\n",
       "      <td>2019-10-01 02:21:22 UTC</td>\n",
       "      <td>view</td>\n",
       "      <td>1003441</td>\n",
       "      <td>2053013555631882655</td>\n",
       "      <td>electronics.smartphone</td>\n",
       "      <td>nokia</td>\n",
       "      <td>407.11</td>\n",
       "      <td>550346297</td>\n",
       "      <td>8d8694d3-271a-4d03-82ee-28d5fbcbd53c</td>\n",
       "    </tr>\n",
       "    <tr>\n",
       "      <th>3</th>\n",
       "      <td>2019-10-01 02:21:55 UTC</td>\n",
       "      <td>view</td>\n",
       "      <td>1003774</td>\n",
       "      <td>2053013555631882655</td>\n",
       "      <td>electronics.smartphone</td>\n",
       "      <td>nokia</td>\n",
       "      <td>370.20</td>\n",
       "      <td>550346297</td>\n",
       "      <td>8d8694d3-271a-4d03-82ee-28d5fbcbd53c</td>\n",
       "    </tr>\n",
       "    <tr>\n",
       "      <th>4</th>\n",
       "      <td>2019-10-01 02:22:51 UTC</td>\n",
       "      <td>view</td>\n",
       "      <td>1003774</td>\n",
       "      <td>2053013555631882655</td>\n",
       "      <td>electronics.smartphone</td>\n",
       "      <td>nokia</td>\n",
       "      <td>370.20</td>\n",
       "      <td>550346297</td>\n",
       "      <td>8d8694d3-271a-4d03-82ee-28d5fbcbd53c</td>\n",
       "    </tr>\n",
       "    <tr>\n",
       "      <th>5</th>\n",
       "      <td>2019-10-01 02:23:51 UTC</td>\n",
       "      <td>view</td>\n",
       "      <td>8800442</td>\n",
       "      <td>2053013555573162395</td>\n",
       "      <td>electronics.telephone</td>\n",
       "      <td>nokia</td>\n",
       "      <td>64.09</td>\n",
       "      <td>550346297</td>\n",
       "      <td>8d8694d3-271a-4d03-82ee-28d5fbcbd53c</td>\n",
       "    </tr>\n",
       "    <tr>\n",
       "      <th>6</th>\n",
       "      <td>2019-10-01 02:24:36 UTC</td>\n",
       "      <td>view</td>\n",
       "      <td>8800442</td>\n",
       "      <td>2053013555573162395</td>\n",
       "      <td>electronics.telephone</td>\n",
       "      <td>nokia</td>\n",
       "      <td>64.09</td>\n",
       "      <td>550346297</td>\n",
       "      <td>8d8694d3-271a-4d03-82ee-28d5fbcbd53c</td>\n",
       "    </tr>\n",
       "    <tr>\n",
       "      <th>7</th>\n",
       "      <td>2019-10-01 02:28:15 UTC</td>\n",
       "      <td>view</td>\n",
       "      <td>1004833</td>\n",
       "      <td>2053013555631882655</td>\n",
       "      <td>electronics.smartphone</td>\n",
       "      <td>samsung</td>\n",
       "      <td>174.76</td>\n",
       "      <td>554750237</td>\n",
       "      <td>c2da0654-bd6d-4aef-8c11-a086daaeb4ac</td>\n",
       "    </tr>\n",
       "    <tr>\n",
       "      <th>8</th>\n",
       "      <td>2019-10-01 02:33:01 UTC</td>\n",
       "      <td>view</td>\n",
       "      <td>1005069</td>\n",
       "      <td>2053013555631882655</td>\n",
       "      <td>electronics.smartphone</td>\n",
       "      <td>vivo</td>\n",
       "      <td>321.73</td>\n",
       "      <td>555464046</td>\n",
       "      <td>2f60777e-a397-4f23-b7a7-f9fea8e02f64</td>\n",
       "    </tr>\n",
       "    <tr>\n",
       "      <th>9</th>\n",
       "      <td>2019-10-01 02:33:12 UTC</td>\n",
       "      <td>view</td>\n",
       "      <td>32701165</td>\n",
       "      <td>2055156924466332447</td>\n",
       "      <td>NaN</td>\n",
       "      <td>zemex</td>\n",
       "      <td>88.90</td>\n",
       "      <td>549085912</td>\n",
       "      <td>e6d0bd67-8631-4bfa-994d-356971cffda9</td>\n",
       "    </tr>\n",
       "  </tbody>\n",
       "</table>\n",
       "</div>"
      ],
      "text/plain": [
       "                event_time event_type  product_id          category_id  \\\n",
       "0  2019-10-01 02:18:49 UTC       view     1003991  2053013555631882655   \n",
       "1  2019-10-01 02:19:53 UTC       view     1003991  2053013555631882655   \n",
       "2  2019-10-01 02:21:22 UTC       view     1003441  2053013555631882655   \n",
       "3  2019-10-01 02:21:55 UTC       view     1003774  2053013555631882655   \n",
       "4  2019-10-01 02:22:51 UTC       view     1003774  2053013555631882655   \n",
       "5  2019-10-01 02:23:51 UTC       view     8800442  2053013555573162395   \n",
       "6  2019-10-01 02:24:36 UTC       view     8800442  2053013555573162395   \n",
       "7  2019-10-01 02:28:15 UTC       view     1004833  2053013555631882655   \n",
       "8  2019-10-01 02:33:01 UTC       view     1005069  2053013555631882655   \n",
       "9  2019-10-01 02:33:12 UTC       view    32701165  2055156924466332447   \n",
       "\n",
       "            category_code    brand   price    user_id  \\\n",
       "0  electronics.smartphone       lg  216.20  550346297   \n",
       "1  electronics.smartphone       lg  216.20  550346297   \n",
       "2  electronics.smartphone    nokia  407.11  550346297   \n",
       "3  electronics.smartphone    nokia  370.20  550346297   \n",
       "4  electronics.smartphone    nokia  370.20  550346297   \n",
       "5   electronics.telephone    nokia   64.09  550346297   \n",
       "6   electronics.telephone    nokia   64.09  550346297   \n",
       "7  electronics.smartphone  samsung  174.76  554750237   \n",
       "8  electronics.smartphone     vivo  321.73  555464046   \n",
       "9                     NaN    zemex   88.90  549085912   \n",
       "\n",
       "                           user_session  \n",
       "0  8d8694d3-271a-4d03-82ee-28d5fbcbd53c  \n",
       "1  8d8694d3-271a-4d03-82ee-28d5fbcbd53c  \n",
       "2  8d8694d3-271a-4d03-82ee-28d5fbcbd53c  \n",
       "3  8d8694d3-271a-4d03-82ee-28d5fbcbd53c  \n",
       "4  8d8694d3-271a-4d03-82ee-28d5fbcbd53c  \n",
       "5  8d8694d3-271a-4d03-82ee-28d5fbcbd53c  \n",
       "6  8d8694d3-271a-4d03-82ee-28d5fbcbd53c  \n",
       "7  c2da0654-bd6d-4aef-8c11-a086daaeb4ac  \n",
       "8  2f60777e-a397-4f23-b7a7-f9fea8e02f64  \n",
       "9  e6d0bd67-8631-4bfa-994d-356971cffda9  "
      ]
     },
     "execution_count": 16,
     "metadata": {},
     "output_type": "execute_result"
    }
   ],
   "source": [
    "events_df.head(10)"
   ]
  },
  {
   "cell_type": "code",
   "execution_count": 17,
   "metadata": {},
   "outputs": [
    {
     "name": "stdout",
     "output_type": "stream",
     "text": [
      "<class 'pandas.core.frame.DataFrame'>\n",
      "RangeIndex: 1306247 entries, 0 to 1306246\n",
      "Data columns (total 9 columns):\n",
      " #   Column         Non-Null Count    Dtype  \n",
      "---  ------         --------------    -----  \n",
      " 0   event_time     1306247 non-null  object \n",
      " 1   event_type     1306247 non-null  object \n",
      " 2   product_id     1306247 non-null  int64  \n",
      " 3   category_id    1306247 non-null  int64  \n",
      " 4   category_code  974756 non-null   object \n",
      " 5   brand          1132894 non-null  object \n",
      " 6   price          1306247 non-null  float64\n",
      " 7   user_id        1306247 non-null  int64  \n",
      " 8   user_session   1306247 non-null  object \n",
      "dtypes: float64(1), int64(3), object(5)\n",
      "memory usage: 89.7+ MB\n"
     ]
    }
   ],
   "source": [
    "events_df.info()"
   ]
  },
  {
   "cell_type": "code",
   "execution_count": 18,
   "metadata": {},
   "outputs": [
    {
     "data": {
      "text/plain": [
       "event_time            0\n",
       "event_type            0\n",
       "product_id            0\n",
       "category_id           0\n",
       "category_code    331491\n",
       "brand            173353\n",
       "price                 0\n",
       "user_id               0\n",
       "user_session          0\n",
       "dtype: int64"
      ]
     },
     "execution_count": 18,
     "metadata": {},
     "output_type": "execute_result"
    }
   ],
   "source": [
    "events_df.isna().sum()"
   ]
  },
  {
   "cell_type": "code",
   "execution_count": 19,
   "metadata": {},
   "outputs": [
    {
     "data": {
      "text/plain": [
       "array([ 12202062,  12200742,   5100376,  18001338,   9600073,  16600203,\n",
       "        16600185,  16600198,  16600197,   5100551,  10701101,   5100375,\n",
       "         5100377,   5100378,   5100674,   9600079,  18001406,   9600059,\n",
       "        34800323,   5100678,  18001454,   8902633,  12720185,  18001391,\n",
       "        29100055,  18001337,   9600142,  28101062,  12720195,  18001197,\n",
       "        21100405,  28400774,  18001236,   9600096,  12720091,  18000387,\n",
       "         4804336,   5100329,  18001198,  18001199,  34800588,  18001569,\n",
       "        18000966,  17200973,   3601005,  16600191,  16600184,   4802095,\n",
       "        47100009,   5100491,   5801278,   1801226,   7006199,  22700958,\n",
       "        22700959,  22700963,  18001339,  10201451,  10201217,   7006182,\n",
       "        22700964,  17301741,  10201317,  10201797,   3801416,   7006183,\n",
       "        10701166,  10301153,   4804335,  10502875, 100019474,  18001597,\n",
       "        10201366,  18001394,  10201304,  10201028,  10502714,  10201025,\n",
       "         5100328,   9600071,   5100581,  34800480,  20100389,   9600095,\n",
       "        14100336,  47100010,  18001541, 100014131, 100023316,  18001277,\n",
       "         9200533,  18001397,  18001071,  18001235,  34800482,  18001097,\n",
       "         5100676,   1480638,  12704775,   5100675,   5100582,  18001230,\n",
       "        12703662,  18001267,  10503033,   9400017,  11200189,  10503897,\n",
       "        18001204,  12719869,  18001360,  34800427,  34800424,  18001485,\n",
       "        18001461,  12720194,  18001618,  17800397,   2240148,  18900183,\n",
       "        18900371,   7006207,  18001539,  10200939, 100012571,  10201450,\n",
       "        10201775,  10502713,   9600156,  18001617,  18001565,  20000642,\n",
       "        18001392,  10201336,  53100039,  10201308,  10504038,   7003278,\n",
       "        12720101,  18001481,  10300473,  13800557,  34800583,  34800560,\n",
       "        10701128,   5100583,  10200316,  17300883,  12201767,   7006184,\n",
       "        18001600,  12703361,   2600248, 100012431,  22700961,  18900204,\n",
       "        26500572,  10200799,  18000285,  18000271,  10201774,  18001412,\n",
       "        18001384, 100003314,  18001182,  45300093,   8500334,  12000324,\n",
       "        12703109, 100015396,  10200982,  38700068,  18001464,  58500007,\n",
       "        26900064,   8500324,  18001398,   9200650,  12703145])"
      ]
     },
     "execution_count": 19,
     "metadata": {},
     "output_type": "execute_result"
    }
   ],
   "source": [
    "events_df.groupby(\"product_id\").filter(lambda x: x[\"brand\"].nunique() > 1)[\n",
    "    \"product_id\"\n",
    "].unique()"
   ]
  },
  {
   "cell_type": "code",
   "execution_count": 20,
   "metadata": {},
   "outputs": [
    {
     "data": {
      "application/vnd.microsoft.datawrangler.viewer.v0+json": {
       "columns": [
        {
         "name": "index",
         "rawType": "int64",
         "type": "integer"
        },
        {
         "name": "product_id",
         "rawType": "int64",
         "type": "integer"
        },
        {
         "name": "brand",
         "rawType": "object",
         "type": "string"
        }
       ],
       "conversionMethod": "pd.DataFrame",
       "ref": "4637be25-a774-4100-afe2-9961805148ec",
       "rows": [
        [
         "364",
         "12202062",
         "lg"
        ],
        [
         "365",
         "12202062",
         "lg"
        ],
        [
         "128125",
         "12202062",
         "cannondale"
        ],
        [
         "877473",
         "12202062",
         "lg"
        ],
        [
         "880558",
         "12202062",
         "lg"
        ],
        [
         "880559",
         "12202062",
         "lg"
        ],
        [
         "880560",
         "12202062",
         "lg"
        ]
       ],
       "shape": {
        "columns": 2,
        "rows": 7
       }
      },
      "text/html": [
       "<div>\n",
       "<style scoped>\n",
       "    .dataframe tbody tr th:only-of-type {\n",
       "        vertical-align: middle;\n",
       "    }\n",
       "\n",
       "    .dataframe tbody tr th {\n",
       "        vertical-align: top;\n",
       "    }\n",
       "\n",
       "    .dataframe thead th {\n",
       "        text-align: right;\n",
       "    }\n",
       "</style>\n",
       "<table border=\"1\" class=\"dataframe\">\n",
       "  <thead>\n",
       "    <tr style=\"text-align: right;\">\n",
       "      <th></th>\n",
       "      <th>product_id</th>\n",
       "      <th>brand</th>\n",
       "    </tr>\n",
       "  </thead>\n",
       "  <tbody>\n",
       "    <tr>\n",
       "      <th>364</th>\n",
       "      <td>12202062</td>\n",
       "      <td>lg</td>\n",
       "    </tr>\n",
       "    <tr>\n",
       "      <th>365</th>\n",
       "      <td>12202062</td>\n",
       "      <td>lg</td>\n",
       "    </tr>\n",
       "    <tr>\n",
       "      <th>128125</th>\n",
       "      <td>12202062</td>\n",
       "      <td>cannondale</td>\n",
       "    </tr>\n",
       "    <tr>\n",
       "      <th>877473</th>\n",
       "      <td>12202062</td>\n",
       "      <td>lg</td>\n",
       "    </tr>\n",
       "    <tr>\n",
       "      <th>880558</th>\n",
       "      <td>12202062</td>\n",
       "      <td>lg</td>\n",
       "    </tr>\n",
       "    <tr>\n",
       "      <th>880559</th>\n",
       "      <td>12202062</td>\n",
       "      <td>lg</td>\n",
       "    </tr>\n",
       "    <tr>\n",
       "      <th>880560</th>\n",
       "      <td>12202062</td>\n",
       "      <td>lg</td>\n",
       "    </tr>\n",
       "  </tbody>\n",
       "</table>\n",
       "</div>"
      ],
      "text/plain": [
       "        product_id       brand\n",
       "364       12202062          lg\n",
       "365       12202062          lg\n",
       "128125    12202062  cannondale\n",
       "877473    12202062          lg\n",
       "880558    12202062          lg\n",
       "880559    12202062          lg\n",
       "880560    12202062          lg"
      ]
     },
     "execution_count": 20,
     "metadata": {},
     "output_type": "execute_result"
    }
   ],
   "source": [
    "# Some products has different brand\n",
    "events_df.loc[events_df[\"product_id\"] == 12202062, [\"product_id\", \"brand\"]]"
   ]
  },
  {
   "cell_type": "code",
   "execution_count": 21,
   "metadata": {},
   "outputs": [
    {
     "data": {
      "text/plain": [
       "array([], dtype=int64)"
      ]
     },
     "execution_count": 21,
     "metadata": {},
     "output_type": "execute_result"
    }
   ],
   "source": [
    "# Make sure same category ids have same category code\n",
    "events_df.groupby(\"category_id\").filter(lambda x: x[\"category_code\"].nunique() > 1)[\n",
    "    \"category_id\"\n",
    "].unique()"
   ]
  },
  {
   "cell_type": "markdown",
   "metadata": {},
   "source": [
    "### Cleaning"
   ]
  },
  {
   "cell_type": "code",
   "execution_count": 22,
   "metadata": {},
   "outputs": [],
   "source": [
    "# Take as brand the most-common not null brand for each product_id\n",
    "events_df[\"brand\"] = events_df.groupby(\"product_id\")[\"brand\"].transform(\n",
    "    lambda x: x.fillna(\n",
    "        x.mode(dropna=True)[0] if not x.mode(dropna=True).empty else np.nan\n",
    "    )\n",
    ")"
   ]
  },
  {
   "cell_type": "code",
   "execution_count": 23,
   "metadata": {},
   "outputs": [
    {
     "data": {
      "text/plain": [
       "event_time            0\n",
       "event_type            0\n",
       "product_id            0\n",
       "category_id           0\n",
       "category_code    331491\n",
       "brand            167854\n",
       "price                 0\n",
       "user_id               0\n",
       "user_session          0\n",
       "dtype: int64"
      ]
     },
     "execution_count": 23,
     "metadata": {},
     "output_type": "execute_result"
    }
   ],
   "source": [
    "events_df.isna().sum()"
   ]
  },
  {
   "cell_type": "code",
   "execution_count": 24,
   "metadata": {},
   "outputs": [],
   "source": [
    "save_df(\"events\", events_df)"
   ]
  },
  {
   "cell_type": "markdown",
   "metadata": {},
   "source": [
    "## Friends ✅"
   ]
  },
  {
   "cell_type": "markdown",
   "metadata": {},
   "source": [
    "### Insights"
   ]
  },
  {
   "cell_type": "code",
   "execution_count": 25,
   "metadata": {},
   "outputs": [
    {
     "data": {
      "application/vnd.microsoft.datawrangler.viewer.v0+json": {
       "columns": [
        {
         "name": "index",
         "rawType": "int64",
         "type": "integer"
        },
        {
         "name": "friend1",
         "rawType": "int64",
         "type": "integer"
        },
        {
         "name": "friend2",
         "rawType": "int64",
         "type": "integer"
        }
       ],
       "conversionMethod": "pd.DataFrame",
       "ref": "abb4824a-890f-4227-a1fa-775361c0fa1a",
       "rows": [
        [
         "0",
         "561161610",
         "556896192"
        ],
        [
         "1",
         "549047060",
         "561241198"
        ],
        [
         "2",
         "555082534",
         "548913408"
        ],
        [
         "3",
         "559767667",
         "548950914"
        ],
        [
         "4",
         "559330431",
         "549191806"
        ]
       ],
       "shape": {
        "columns": 2,
        "rows": 5
       }
      },
      "text/html": [
       "<div>\n",
       "<style scoped>\n",
       "    .dataframe tbody tr th:only-of-type {\n",
       "        vertical-align: middle;\n",
       "    }\n",
       "\n",
       "    .dataframe tbody tr th {\n",
       "        vertical-align: top;\n",
       "    }\n",
       "\n",
       "    .dataframe thead th {\n",
       "        text-align: right;\n",
       "    }\n",
       "</style>\n",
       "<table border=\"1\" class=\"dataframe\">\n",
       "  <thead>\n",
       "    <tr style=\"text-align: right;\">\n",
       "      <th></th>\n",
       "      <th>friend1</th>\n",
       "      <th>friend2</th>\n",
       "    </tr>\n",
       "  </thead>\n",
       "  <tbody>\n",
       "    <tr>\n",
       "      <th>0</th>\n",
       "      <td>561161610</td>\n",
       "      <td>556896192</td>\n",
       "    </tr>\n",
       "    <tr>\n",
       "      <th>1</th>\n",
       "      <td>549047060</td>\n",
       "      <td>561241198</td>\n",
       "    </tr>\n",
       "    <tr>\n",
       "      <th>2</th>\n",
       "      <td>555082534</td>\n",
       "      <td>548913408</td>\n",
       "    </tr>\n",
       "    <tr>\n",
       "      <th>3</th>\n",
       "      <td>559767667</td>\n",
       "      <td>548950914</td>\n",
       "    </tr>\n",
       "    <tr>\n",
       "      <th>4</th>\n",
       "      <td>559330431</td>\n",
       "      <td>549191806</td>\n",
       "    </tr>\n",
       "  </tbody>\n",
       "</table>\n",
       "</div>"
      ],
      "text/plain": [
       "     friend1    friend2\n",
       "0  561161610  556896192\n",
       "1  549047060  561241198\n",
       "2  555082534  548913408\n",
       "3  559767667  548950914\n",
       "4  559330431  549191806"
      ]
     },
     "execution_count": 25,
     "metadata": {},
     "output_type": "execute_result"
    }
   ],
   "source": [
    "friends_df.head(5)"
   ]
  },
  {
   "cell_type": "code",
   "execution_count": 26,
   "metadata": {},
   "outputs": [
    {
     "name": "stdout",
     "output_type": "stream",
     "text": [
      "<class 'pandas.core.frame.DataFrame'>\n",
      "RangeIndex: 1974237 entries, 0 to 1974236\n",
      "Data columns (total 2 columns):\n",
      " #   Column   Dtype\n",
      "---  ------   -----\n",
      " 0   friend1  int64\n",
      " 1   friend2  int64\n",
      "dtypes: int64(2)\n",
      "memory usage: 30.1 MB\n"
     ]
    }
   ],
   "source": [
    "friends_df.info()"
   ]
  },
  {
   "cell_type": "code",
   "execution_count": 27,
   "metadata": {},
   "outputs": [
    {
     "data": {
      "text/plain": [
       "friend1    0\n",
       "friend2    0\n",
       "dtype: int64"
      ]
     },
     "execution_count": 27,
     "metadata": {},
     "output_type": "execute_result"
    }
   ],
   "source": [
    "friends_df.isna().sum()"
   ]
  },
  {
   "cell_type": "markdown",
   "metadata": {},
   "source": [
    "### Cleaning"
   ]
  },
  {
   "cell_type": "code",
   "execution_count": 37,
   "metadata": {},
   "outputs": [],
   "source": [
    "# Ensure each pair (friend1, friend2) is unique\n",
    "friends_df.drop_duplicates(inplace=True)"
   ]
  },
  {
   "cell_type": "code",
   "execution_count": 38,
   "metadata": {},
   "outputs": [],
   "source": [
    "save_df(\"friends\", friends_df)"
   ]
  },
  {
   "cell_type": "markdown",
   "metadata": {},
   "source": [
    "## Messages ✅"
   ]
  },
  {
   "cell_type": "markdown",
   "metadata": {},
   "source": [
    "### Insights"
   ]
  },
  {
   "cell_type": "code",
   "execution_count": 29,
   "metadata": {},
   "outputs": [
    {
     "data": {
      "application/vnd.microsoft.datawrangler.viewer.v0+json": {
       "columns": [
        {
         "name": "index",
         "rawType": "int64",
         "type": "integer"
        },
        {
         "name": "id",
         "rawType": "int64",
         "type": "integer"
        },
        {
         "name": "message_id",
         "rawType": "object",
         "type": "string"
        },
        {
         "name": "campaign_id",
         "rawType": "int64",
         "type": "integer"
        },
        {
         "name": "message_type",
         "rawType": "object",
         "type": "string"
        },
        {
         "name": "client_id",
         "rawType": "int64",
         "type": "integer"
        },
        {
         "name": "channel",
         "rawType": "object",
         "type": "string"
        },
        {
         "name": "category",
         "rawType": "float64",
         "type": "float"
        },
        {
         "name": "platform",
         "rawType": "object",
         "type": "unknown"
        },
        {
         "name": "email_provider",
         "rawType": "object",
         "type": "string"
        },
        {
         "name": "stream",
         "rawType": "object",
         "type": "string"
        },
        {
         "name": "date",
         "rawType": "object",
         "type": "string"
        },
        {
         "name": "sent_at",
         "rawType": "object",
         "type": "string"
        },
        {
         "name": "is_opened",
         "rawType": "object",
         "type": "string"
        },
        {
         "name": "opened_first_time_at",
         "rawType": "object",
         "type": "string"
        },
        {
         "name": "opened_last_time_at",
         "rawType": "object",
         "type": "string"
        },
        {
         "name": "is_clicked",
         "rawType": "object",
         "type": "string"
        },
        {
         "name": "clicked_first_time_at",
         "rawType": "object",
         "type": "unknown"
        },
        {
         "name": "clicked_last_time_at",
         "rawType": "object",
         "type": "unknown"
        },
        {
         "name": "is_unsubscribed",
         "rawType": "object",
         "type": "string"
        },
        {
         "name": "unsubscribed_at",
         "rawType": "object",
         "type": "unknown"
        },
        {
         "name": "is_hard_bounced",
         "rawType": "object",
         "type": "string"
        },
        {
         "name": "hard_bounced_at",
         "rawType": "object",
         "type": "unknown"
        },
        {
         "name": "is_soft_bounced",
         "rawType": "object",
         "type": "string"
        },
        {
         "name": "soft_bounced_at",
         "rawType": "object",
         "type": "unknown"
        },
        {
         "name": "is_complained",
         "rawType": "object",
         "type": "string"
        },
        {
         "name": "complained_at",
         "rawType": "object",
         "type": "unknown"
        },
        {
         "name": "is_blocked",
         "rawType": "object",
         "type": "string"
        },
        {
         "name": "blocked_at",
         "rawType": "object",
         "type": "unknown"
        },
        {
         "name": "is_purchased",
         "rawType": "object",
         "type": "string"
        },
        {
         "name": "purchased_at",
         "rawType": "object",
         "type": "unknown"
        },
        {
         "name": "created_at",
         "rawType": "object",
         "type": "string"
        },
        {
         "name": "updated_at",
         "rawType": "object",
         "type": "string"
        },
        {
         "name": "user_device_id",
         "rawType": "int64",
         "type": "integer"
        },
        {
         "name": "user_id",
         "rawType": "int64",
         "type": "integer"
        }
       ],
       "conversionMethod": "pd.DataFrame",
       "ref": "996cbb5e-fd3b-4fe9-b525-1b82be134958",
       "rows": [
        [
         "0",
         "3528648",
         "5850858d-2dcf-4f31-a0d3-5db5649b17c4",
         "32",
         "transactional",
         "1515915625490455948",
         "email",
         null,
         null,
         "mail.ru",
         "desktop",
         "2021-04-30",
         "2021-04-30 06:20:37",
         "t",
         "2021-05-04 18:56:16",
         "2021-05-04 18:56:16",
         "f",
         null,
         null,
         "f",
         null,
         "f",
         null,
         "f",
         null,
         "f",
         null,
         "f",
         null,
         "f",
         null,
         "2023-04-27 08:55:07.727792",
         "2023-04-27 08:56:19.926474",
         "8",
         "549045594"
        ],
        [
         "1",
         "3532134",
         "2819c065-64c3-4790-b827-95b67673799f",
         "179",
         "transactional",
         "1515915625559452765",
         "email",
         null,
         null,
         "mail.ru",
         "desktop",
         "2021-04-30",
         "2021-04-30 08:34:28",
         "t",
         "2021-04-30 08:34:38",
         "2021-04-30 08:34:38",
         "t",
         "2021-05-04 09:26:56",
         "2021-05-04 09:26:56",
         "f",
         null,
         "f",
         null,
         "f",
         null,
         "f",
         null,
         "f",
         null,
         "f",
         null,
         "2023-04-27 08:55:12.867346",
         "2023-04-27 08:56:25.365322",
         "5",
         "555945276"
        ],
        [
         "2",
         "3533768",
         "ad2ee04f-ebbf-4a53-938c-e868e3100193",
         "179",
         "transactional",
         "1515915625500453590",
         "email",
         null,
         null,
         "gmail.com",
         "desktop",
         "2021-04-30",
         "2021-04-30 10:51:16",
         "t",
         "2021-05-05 07:23:00",
         "2021-05-05 07:23:00",
         "f",
         null,
         null,
         "f",
         null,
         "f",
         null,
         "f",
         null,
         "f",
         null,
         "f",
         null,
         "f",
         null,
         "2023-04-27 08:55:15.317548",
         "2023-04-27 08:56:44.904473",
         "0",
         "550045359"
        ],
        [
         "3",
         "3533065",
         "7339a90b-44ad-4b8e-bcad-96aba19aa04f",
         "179",
         "transactional",
         "1515915625491642511",
         "email",
         null,
         null,
         "mail.ru",
         "desktop",
         "2021-04-30",
         "2021-04-30 07:03:58",
         "t",
         "2021-05-06 10:53:31",
         "2021-05-06 10:53:31",
         "f",
         null,
         null,
         "t",
         "2021-05-06 10:53:38",
         "f",
         null,
         "f",
         null,
         "f",
         null,
         "f",
         null,
         "f",
         null,
         "2023-04-27 08:55:14.248087",
         "2023-04-27 08:57:39.638158",
         "1",
         "549164251"
        ],
        [
         "4",
         "3524033",
         "becc8b8f-39a8-43af-bb63-1ecf2e3adc56",
         "27",
         "transactional",
         "1515915625471416467",
         "email",
         null,
         null,
         "mail.ru",
         "desktop",
         "2021-04-30",
         "2021-04-30 21:30:15",
         "t",
         "2021-05-24 21:27:28",
         "2021-05-24 21:27:28",
         "f",
         null,
         null,
         "f",
         null,
         "f",
         null,
         "f",
         null,
         "f",
         null,
         "f",
         null,
         "f",
         null,
         "2023-04-27 08:55:01.046351",
         "2023-04-27 09:05:51.056925",
         "7",
         "547141646"
        ]
       ],
       "shape": {
        "columns": 34,
        "rows": 5
       }
      },
      "text/html": [
       "<div>\n",
       "<style scoped>\n",
       "    .dataframe tbody tr th:only-of-type {\n",
       "        vertical-align: middle;\n",
       "    }\n",
       "\n",
       "    .dataframe tbody tr th {\n",
       "        vertical-align: top;\n",
       "    }\n",
       "\n",
       "    .dataframe thead th {\n",
       "        text-align: right;\n",
       "    }\n",
       "</style>\n",
       "<table border=\"1\" class=\"dataframe\">\n",
       "  <thead>\n",
       "    <tr style=\"text-align: right;\">\n",
       "      <th></th>\n",
       "      <th>id</th>\n",
       "      <th>message_id</th>\n",
       "      <th>campaign_id</th>\n",
       "      <th>message_type</th>\n",
       "      <th>client_id</th>\n",
       "      <th>channel</th>\n",
       "      <th>category</th>\n",
       "      <th>platform</th>\n",
       "      <th>email_provider</th>\n",
       "      <th>stream</th>\n",
       "      <th>...</th>\n",
       "      <th>is_complained</th>\n",
       "      <th>complained_at</th>\n",
       "      <th>is_blocked</th>\n",
       "      <th>blocked_at</th>\n",
       "      <th>is_purchased</th>\n",
       "      <th>purchased_at</th>\n",
       "      <th>created_at</th>\n",
       "      <th>updated_at</th>\n",
       "      <th>user_device_id</th>\n",
       "      <th>user_id</th>\n",
       "    </tr>\n",
       "  </thead>\n",
       "  <tbody>\n",
       "    <tr>\n",
       "      <th>0</th>\n",
       "      <td>3528648</td>\n",
       "      <td>5850858d-2dcf-4f31-a0d3-5db5649b17c4</td>\n",
       "      <td>32</td>\n",
       "      <td>transactional</td>\n",
       "      <td>1515915625490455948</td>\n",
       "      <td>email</td>\n",
       "      <td>NaN</td>\n",
       "      <td>NaN</td>\n",
       "      <td>mail.ru</td>\n",
       "      <td>desktop</td>\n",
       "      <td>...</td>\n",
       "      <td>f</td>\n",
       "      <td>NaN</td>\n",
       "      <td>f</td>\n",
       "      <td>NaN</td>\n",
       "      <td>f</td>\n",
       "      <td>NaN</td>\n",
       "      <td>2023-04-27 08:55:07.727792</td>\n",
       "      <td>2023-04-27 08:56:19.926474</td>\n",
       "      <td>8</td>\n",
       "      <td>549045594</td>\n",
       "    </tr>\n",
       "    <tr>\n",
       "      <th>1</th>\n",
       "      <td>3532134</td>\n",
       "      <td>2819c065-64c3-4790-b827-95b67673799f</td>\n",
       "      <td>179</td>\n",
       "      <td>transactional</td>\n",
       "      <td>1515915625559452765</td>\n",
       "      <td>email</td>\n",
       "      <td>NaN</td>\n",
       "      <td>NaN</td>\n",
       "      <td>mail.ru</td>\n",
       "      <td>desktop</td>\n",
       "      <td>...</td>\n",
       "      <td>f</td>\n",
       "      <td>NaN</td>\n",
       "      <td>f</td>\n",
       "      <td>NaN</td>\n",
       "      <td>f</td>\n",
       "      <td>NaN</td>\n",
       "      <td>2023-04-27 08:55:12.867346</td>\n",
       "      <td>2023-04-27 08:56:25.365322</td>\n",
       "      <td>5</td>\n",
       "      <td>555945276</td>\n",
       "    </tr>\n",
       "    <tr>\n",
       "      <th>2</th>\n",
       "      <td>3533768</td>\n",
       "      <td>ad2ee04f-ebbf-4a53-938c-e868e3100193</td>\n",
       "      <td>179</td>\n",
       "      <td>transactional</td>\n",
       "      <td>1515915625500453590</td>\n",
       "      <td>email</td>\n",
       "      <td>NaN</td>\n",
       "      <td>NaN</td>\n",
       "      <td>gmail.com</td>\n",
       "      <td>desktop</td>\n",
       "      <td>...</td>\n",
       "      <td>f</td>\n",
       "      <td>NaN</td>\n",
       "      <td>f</td>\n",
       "      <td>NaN</td>\n",
       "      <td>f</td>\n",
       "      <td>NaN</td>\n",
       "      <td>2023-04-27 08:55:15.317548</td>\n",
       "      <td>2023-04-27 08:56:44.904473</td>\n",
       "      <td>0</td>\n",
       "      <td>550045359</td>\n",
       "    </tr>\n",
       "    <tr>\n",
       "      <th>3</th>\n",
       "      <td>3533065</td>\n",
       "      <td>7339a90b-44ad-4b8e-bcad-96aba19aa04f</td>\n",
       "      <td>179</td>\n",
       "      <td>transactional</td>\n",
       "      <td>1515915625491642511</td>\n",
       "      <td>email</td>\n",
       "      <td>NaN</td>\n",
       "      <td>NaN</td>\n",
       "      <td>mail.ru</td>\n",
       "      <td>desktop</td>\n",
       "      <td>...</td>\n",
       "      <td>f</td>\n",
       "      <td>NaN</td>\n",
       "      <td>f</td>\n",
       "      <td>NaN</td>\n",
       "      <td>f</td>\n",
       "      <td>NaN</td>\n",
       "      <td>2023-04-27 08:55:14.248087</td>\n",
       "      <td>2023-04-27 08:57:39.638158</td>\n",
       "      <td>1</td>\n",
       "      <td>549164251</td>\n",
       "    </tr>\n",
       "    <tr>\n",
       "      <th>4</th>\n",
       "      <td>3524033</td>\n",
       "      <td>becc8b8f-39a8-43af-bb63-1ecf2e3adc56</td>\n",
       "      <td>27</td>\n",
       "      <td>transactional</td>\n",
       "      <td>1515915625471416467</td>\n",
       "      <td>email</td>\n",
       "      <td>NaN</td>\n",
       "      <td>NaN</td>\n",
       "      <td>mail.ru</td>\n",
       "      <td>desktop</td>\n",
       "      <td>...</td>\n",
       "      <td>f</td>\n",
       "      <td>NaN</td>\n",
       "      <td>f</td>\n",
       "      <td>NaN</td>\n",
       "      <td>f</td>\n",
       "      <td>NaN</td>\n",
       "      <td>2023-04-27 08:55:01.046351</td>\n",
       "      <td>2023-04-27 09:05:51.056925</td>\n",
       "      <td>7</td>\n",
       "      <td>547141646</td>\n",
       "    </tr>\n",
       "  </tbody>\n",
       "</table>\n",
       "<p>5 rows × 34 columns</p>\n",
       "</div>"
      ],
      "text/plain": [
       "        id                            message_id  campaign_id   message_type  \\\n",
       "0  3528648  5850858d-2dcf-4f31-a0d3-5db5649b17c4           32  transactional   \n",
       "1  3532134  2819c065-64c3-4790-b827-95b67673799f          179  transactional   \n",
       "2  3533768  ad2ee04f-ebbf-4a53-938c-e868e3100193          179  transactional   \n",
       "3  3533065  7339a90b-44ad-4b8e-bcad-96aba19aa04f          179  transactional   \n",
       "4  3524033  becc8b8f-39a8-43af-bb63-1ecf2e3adc56           27  transactional   \n",
       "\n",
       "             client_id channel  category platform email_provider   stream  \\\n",
       "0  1515915625490455948   email       NaN      NaN        mail.ru  desktop   \n",
       "1  1515915625559452765   email       NaN      NaN        mail.ru  desktop   \n",
       "2  1515915625500453590   email       NaN      NaN      gmail.com  desktop   \n",
       "3  1515915625491642511   email       NaN      NaN        mail.ru  desktop   \n",
       "4  1515915625471416467   email       NaN      NaN        mail.ru  desktop   \n",
       "\n",
       "   ... is_complained complained_at is_blocked blocked_at is_purchased  \\\n",
       "0  ...             f           NaN          f        NaN            f   \n",
       "1  ...             f           NaN          f        NaN            f   \n",
       "2  ...             f           NaN          f        NaN            f   \n",
       "3  ...             f           NaN          f        NaN            f   \n",
       "4  ...             f           NaN          f        NaN            f   \n",
       "\n",
       "  purchased_at                  created_at                  updated_at  \\\n",
       "0          NaN  2023-04-27 08:55:07.727792  2023-04-27 08:56:19.926474   \n",
       "1          NaN  2023-04-27 08:55:12.867346  2023-04-27 08:56:25.365322   \n",
       "2          NaN  2023-04-27 08:55:15.317548  2023-04-27 08:56:44.904473   \n",
       "3          NaN  2023-04-27 08:55:14.248087  2023-04-27 08:57:39.638158   \n",
       "4          NaN  2023-04-27 08:55:01.046351  2023-04-27 09:05:51.056925   \n",
       "\n",
       "  user_device_id    user_id  \n",
       "0              8  549045594  \n",
       "1              5  555945276  \n",
       "2              0  550045359  \n",
       "3              1  549164251  \n",
       "4              7  547141646  \n",
       "\n",
       "[5 rows x 34 columns]"
      ]
     },
     "execution_count": 29,
     "metadata": {},
     "output_type": "execute_result"
    }
   ],
   "source": [
    "messages_df.head(5)"
   ]
  },
  {
   "cell_type": "code",
   "execution_count": 30,
   "metadata": {},
   "outputs": [
    {
     "name": "stdout",
     "output_type": "stream",
     "text": [
      "<class 'pandas.core.frame.DataFrame'>\n",
      "RangeIndex: 3000104 entries, 0 to 3000103\n",
      "Data columns (total 34 columns):\n",
      " #   Column                 Dtype  \n",
      "---  ------                 -----  \n",
      " 0   id                     int64  \n",
      " 1   message_id             object \n",
      " 2   campaign_id            int64  \n",
      " 3   message_type           object \n",
      " 4   client_id              int64  \n",
      " 5   channel                object \n",
      " 6   category               float64\n",
      " 7   platform               object \n",
      " 8   email_provider         object \n",
      " 9   stream                 object \n",
      " 10  date                   object \n",
      " 11  sent_at                object \n",
      " 12  is_opened              object \n",
      " 13  opened_first_time_at   object \n",
      " 14  opened_last_time_at    object \n",
      " 15  is_clicked             object \n",
      " 16  clicked_first_time_at  object \n",
      " 17  clicked_last_time_at   object \n",
      " 18  is_unsubscribed        object \n",
      " 19  unsubscribed_at        object \n",
      " 20  is_hard_bounced        object \n",
      " 21  hard_bounced_at        object \n",
      " 22  is_soft_bounced        object \n",
      " 23  soft_bounced_at        object \n",
      " 24  is_complained          object \n",
      " 25  complained_at          object \n",
      " 26  is_blocked             object \n",
      " 27  blocked_at             object \n",
      " 28  is_purchased           object \n",
      " 29  purchased_at           object \n",
      " 30  created_at             object \n",
      " 31  updated_at             object \n",
      " 32  user_device_id         int64  \n",
      " 33  user_id                int64  \n",
      "dtypes: float64(1), int64(5), object(28)\n",
      "memory usage: 778.2+ MB\n"
     ]
    }
   ],
   "source": [
    "messages_df.info()"
   ]
  },
  {
   "cell_type": "code",
   "execution_count": 31,
   "metadata": {},
   "outputs": [
    {
     "data": {
      "text/plain": [
       "id                             0\n",
       "message_id                     0\n",
       "campaign_id                    0\n",
       "message_type                   0\n",
       "client_id                      0\n",
       "channel                        0\n",
       "category                 3000104\n",
       "platform                 2780044\n",
       "email_provider           1268693\n",
       "stream                         0\n",
       "date                           0\n",
       "sent_at                        0\n",
       "is_opened                      0\n",
       "opened_first_time_at     2516382\n",
       "opened_last_time_at      2516382\n",
       "is_clicked                     0\n",
       "clicked_first_time_at    2929447\n",
       "clicked_last_time_at     2929447\n",
       "is_unsubscribed                0\n",
       "unsubscribed_at          2909010\n",
       "is_hard_bounced                0\n",
       "hard_bounced_at          2990845\n",
       "is_soft_bounced                0\n",
       "soft_bounced_at          2998689\n",
       "is_complained                  0\n",
       "complained_at            2998585\n",
       "is_blocked                     0\n",
       "blocked_at               3000031\n",
       "is_purchased                   0\n",
       "purchased_at             2996396\n",
       "created_at                     0\n",
       "updated_at                     0\n",
       "user_device_id                 0\n",
       "user_id                        0\n",
       "dtype: int64"
      ]
     },
     "execution_count": 31,
     "metadata": {},
     "output_type": "execute_result"
    }
   ],
   "source": [
    "messages_df.isna().sum()"
   ]
  },
  {
   "cell_type": "code",
   "execution_count": 32,
   "metadata": {},
   "outputs": [
    {
     "data": {
      "text/plain": [
       "np.True_"
      ]
     },
     "execution_count": 32,
     "metadata": {},
     "output_type": "execute_result"
    }
   ],
   "source": [
    "# All categories are missing (but we have only snapshot)\n",
    "messages_df[\"category\"].isna().sum() == len(messages_df)"
   ]
  },
  {
   "cell_type": "markdown",
   "metadata": {},
   "source": [
    "### Cleaning"
   ]
  },
  {
   "cell_type": "code",
   "execution_count": 33,
   "metadata": {},
   "outputs": [],
   "source": [
    "# messages_df.drop(\"category\", axis=1, inplace=True)  # Drop categories"
   ]
  },
  {
   "cell_type": "code",
   "execution_count": 34,
   "metadata": {},
   "outputs": [],
   "source": [
    "# Convert boolean columns to boolean type\n",
    "messages_boolean_columns = [\n",
    "    \"is_opened\",\n",
    "    \"is_clicked\",\n",
    "    \"is_unsubscribed\",\n",
    "    \"is_hard_bounced\",\n",
    "    \"is_soft_bounced\",\n",
    "    \"is_complained\",\n",
    "    \"is_blocked\",\n",
    "    \"is_purchased\",\n",
    "]\n",
    "\n",
    "messages_df[messages_boolean_columns] = messages_df[messages_boolean_columns].replace(\n",
    "    {\"t\": True, \"f\": False}\n",
    ")"
   ]
  },
  {
   "cell_type": "code",
   "execution_count": 35,
   "metadata": {},
   "outputs": [],
   "source": [
    "save_df(\"messages\", messages_df)"
   ]
  }
 ],
 "metadata": {
  "kernelspec": {
   "display_name": ".venv",
   "language": "python",
   "name": "python3"
  },
  "language_info": {
   "codemirror_mode": {
    "name": "ipython",
    "version": 3
   },
   "file_extension": ".py",
   "mimetype": "text/x-python",
   "name": "python",
   "nbconvert_exporter": "python",
   "pygments_lexer": "ipython3",
   "version": "3.12.4"
  }
 },
 "nbformat": 4,
 "nbformat_minor": 2
}
